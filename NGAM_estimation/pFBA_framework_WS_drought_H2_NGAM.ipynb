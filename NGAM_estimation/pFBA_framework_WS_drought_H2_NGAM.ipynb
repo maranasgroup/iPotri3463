{
 "cells": [
  {
   "cell_type": "markdown",
   "id": "57b355c0",
   "metadata": {},
   "source": [
    "# pFBA simulation for the MT-GSM of Poplar tricocarpa\n",
    "## Original Code: Juliana Simas Barbosa\n",
    "## Edits/streamlining: Wheaton Schroeder\n",
    "### Latest Version: 08/30/2023"
   ]
  },
  {
   "cell_type": "markdown",
   "id": "8bbacc5b",
   "metadata": {},
   "source": [
    "#### Make library imports"
   ]
  },
  {
   "cell_type": "code",
   "execution_count": 1,
   "id": "129860dc",
   "metadata": {},
   "outputs": [],
   "source": [
    "# Import necessary libraries:\n",
    "import cobra\n",
    "import pandas as pd\n",
    "import matplotlib.pyplot as plt\n",
    "import numpy as np\n",
    "import string\n",
    "import warnings"
   ]
  },
  {
   "cell_type": "markdown",
   "id": "450b7e18",
   "metadata": {},
   "source": [
    "#### Define necessary functions"
   ]
  },
  {
   "cell_type": "markdown",
   "id": "3dacb6d6",
   "metadata": {},
   "source": [
    "#### set information for the runs"
   ]
  },
  {
   "cell_type": "code",
   "execution_count": 2,
   "id": "a27a3cc3",
   "metadata": {},
   "outputs": [
    {
     "name": "stdout",
     "output_type": "stream",
     "text": [
      "success\n"
     ]
    }
   ],
   "source": [
    "# initial inputs:\n",
    "## mass (gDW) of each tissue in year one \n",
    "### Leaf, stem, root\n",
    "#note that these values will be the same for colntorl and drought, as prolonged drought introduced in the growing season modeled\n",
    "\n",
    "#initial masses, from a paper\n",
    "Init_S_mass = 185\n",
    "Init_R_mass = 112\n",
    "Init_L_mass = 121\n",
    "total_mass = Init_S_mass + Init_R_mass + Init_L_mass\n",
    "\n",
    "#fitted starts, from fitting of growth curves\n",
    "#Init_S_mass = 100.54\n",
    "#Init_R_mass = 67.403\n",
    "#Init_L_mass = 86.659\n",
    "#total_mass = Init_S_mass + Init_R_mass + Init_L_mass\n",
    "\n",
    "#growth rates for the control model, calculated by fitting an experimental function\n",
    "cont_leaf_g = 0.001946356\n",
    "cont_root_g = 0.002960933\n",
    "cont_stem_g = 0.003555685\n",
    "\n",
    "#mass fractions at first time point\n",
    "L_fraction_0 = Init_L_mass/total_mass\n",
    "R_fraction_0 = Init_R_mass/total_mass\n",
    "S_fraction_0 = Init_S_mass/total_mass\n",
    "\n",
    "#photon uptake limits\n",
    "leaf_photon_uptake_ub = 443\n",
    "stem_photon_uptake_ub = 443\n",
    "\n",
    "#non-growth associated maintenance\n",
    "NGAM = 23.07238\n",
    "\n",
    "#drought model file\n",
    "drought_file = \"./iPotri2999D.xml\"\n",
    "\n",
    "#read in the limit for CO2 based on minimum CO2 in pFBA\n",
    "co2_min_cont_f = open(\"co2_cont_leaf.txt\")\n",
    "co2_min_cont = float(co2_min_cont_f.read())\n",
    "co2_min_cont_f.close()\n",
    "\n",
    "#specify fraction of control for stomatal conductance (gs), stem growth, and root growth for H1\n",
    "#estimated from Bogeat-Triboulot et al, Plant Physiology, 2007\n",
    "s_g_frac_H2 = 0.04\n",
    "r_g_frac_H2 = 0.93\n",
    "a_frac_H2 = 0.80\n",
    "\n",
    "print(\"success\")"
   ]
  },
  {
   "cell_type": "markdown",
   "id": "9d51c8a7",
   "metadata": {},
   "source": [
    "#### Read in the drought model"
   ]
  },
  {
   "cell_type": "code",
   "execution_count": 3,
   "id": "ac1c6c01",
   "metadata": {},
   "outputs": [
    {
     "name": "stderr",
     "output_type": "stream",
     "text": [
      "No objective coefficients in model. Unclear what should be optimized\n"
     ]
    },
    {
     "name": "stdout",
     "output_type": "stream",
     "text": [
      "success\n"
     ]
    }
   ],
   "source": [
    "drought_model = cobra.io.read_sbml_model(drought_file)\n",
    "\n",
    "print(\"success\")"
   ]
  },
  {
   "cell_type": "markdown",
   "id": "853f484d",
   "metadata": {},
   "source": [
    "#### update intertissue transports through common pools based on tissue fractions"
   ]
  },
  {
   "cell_type": "code",
   "execution_count": 4,
   "id": "9b1f5920",
   "metadata": {},
   "outputs": [
    {
     "name": "stderr",
     "output_type": "stream",
     "text": [
      "Ignoring reaction 'RXN_R2CP1_CO2_LIGHT' since it already exists.\n",
      "Ignoring reaction 'RXN_R2CP1_WATER_LIGHT' since it already exists.\n",
      "Ignoring reaction 'RXN_R2CP1_ZN2_LIGHT' since it already exists.\n",
      "Ignoring reaction 'RXN_R2CP1_PI_LIGHT' since it already exists.\n",
      "Ignoring reaction 'RXN_R2CP1_CU2_LIGHT' since it already exists.\n",
      "Ignoring reaction 'RXN_R2CP1_MN2_LIGHT' since it already exists.\n",
      "Ignoring reaction 'RXN_R2CP1_MG2_LIGHT' since it already exists.\n",
      "Ignoring reaction 'RXN_R2CP1_PROTON_LIGHT' since it already exists.\n",
      "Ignoring reaction 'RXN_R2CP1_NITRATE_LIGHT' since it already exists.\n",
      "Ignoring reaction 'RXN_R2CP1_SULFATE_LIGHT' since it already exists.\n",
      "Ignoring reaction 'RXN_R2CP1_AMMONIUM_LIGHT' since it already exists.\n",
      "Ignoring reaction 'RXN_R2CP1_FE2_LIGHT' since it already exists.\n",
      "Ignoring reaction 'RXN_R2CP1_FE3_LIGHT' since it already exists.\n",
      "Ignoring reaction 'RXN_R2CP1_K_LIGHT' since it already exists.\n",
      "Ignoring reaction 'RXN_R2CP1_NA_LIGHT' since it already exists.\n",
      "Ignoring reaction 'RXN_R2CP1_SUCROSE_LIGHT' since it already exists.\n",
      "Ignoring reaction 'RXN_S2CP1_CO2_LIGHT' since it already exists.\n",
      "Ignoring reaction 'RXN_S2CP1_WATER_LIGHT' since it already exists.\n",
      "Ignoring reaction 'RXN_S2CP1_ZN2_LIGHT' since it already exists.\n",
      "Ignoring reaction 'RXN_S2CP1_PI_LIGHT' since it already exists.\n",
      "Ignoring reaction 'RXN_S2CP1_CU2_LIGHT' since it already exists.\n",
      "Ignoring reaction 'RXN_S2CP1_MN2_LIGHT' since it already exists.\n",
      "Ignoring reaction 'RXN_S2CP1_MG2_LIGHT' since it already exists.\n",
      "Ignoring reaction 'RXN_S2CP1_PROTON_LIGHT' since it already exists.\n",
      "Ignoring reaction 'RXN_S2CP1_NITRATE_LIGHT' since it already exists.\n",
      "Ignoring reaction 'RXN_S2CP1_SULFATE_LIGHT' since it already exists.\n",
      "Ignoring reaction 'RXN_S2CP1_AMMONIUM_LIGHT' since it already exists.\n",
      "Ignoring reaction 'RXN_S2CP1_FE2_LIGHT' since it already exists.\n",
      "Ignoring reaction 'RXN_S2CP1_FE3_LIGHT' since it already exists.\n",
      "Ignoring reaction 'RXN_S2CP1_K_LIGHT' since it already exists.\n",
      "Ignoring reaction 'RXN_S2CP1_NA_LIGHT' since it already exists.\n",
      "Ignoring reaction 'RXN_S2CP1_SUCROSE_LIGHT' since it already exists.\n",
      "Ignoring reaction 'RXN_S2CP2_CO2_LIGHT' since it already exists.\n",
      "Ignoring reaction 'RXN_S2CP2_WATER_LIGHT' since it already exists.\n",
      "Ignoring reaction 'RXN_S2CP2_ZN2_LIGHT' since it already exists.\n",
      "Ignoring reaction 'RXN_S2CP2_PI_LIGHT' since it already exists.\n",
      "Ignoring reaction 'RXN_S2CP2_CU2_LIGHT' since it already exists.\n",
      "Ignoring reaction 'RXN_S2CP2_MN2_LIGHT' since it already exists.\n",
      "Ignoring reaction 'RXN_S2CP2_MG2_LIGHT' since it already exists.\n",
      "Ignoring reaction 'RXN_S2CP2_PROTON_LIGHT' since it already exists.\n",
      "Ignoring reaction 'RXN_S2CP2_NITRATE_LIGHT' since it already exists.\n",
      "Ignoring reaction 'RXN_S2CP2_SULFATE_LIGHT' since it already exists.\n",
      "Ignoring reaction 'RXN_S2CP2_AMMONIUM_LIGHT' since it already exists.\n",
      "Ignoring reaction 'RXN_S2CP2_FE2_LIGHT' since it already exists.\n",
      "Ignoring reaction 'RXN_S2CP2_FE3_LIGHT' since it already exists.\n",
      "Ignoring reaction 'RXN_S2CP2_K_LIGHT' since it already exists.\n",
      "Ignoring reaction 'RXN_S2CP2_NA_LIGHT' since it already exists.\n",
      "Ignoring reaction 'RXN_S2CP2_SUCROSE_LIGHT' since it already exists.\n",
      "Ignoring reaction 'RXN_L2CP2_CO2_LIGHT' since it already exists.\n",
      "Ignoring reaction 'RXN_L2CP2_WATER_LIGHT' since it already exists.\n",
      "Ignoring reaction 'RXN_L2CP2_ZN2_LIGHT' since it already exists.\n",
      "Ignoring reaction 'RXN_L2CP2_PI_LIGHT' since it already exists.\n",
      "Ignoring reaction 'RXN_L2CP2_CU2_LIGHT' since it already exists.\n",
      "Ignoring reaction 'RXN_L2CP2_MN2_LIGHT' since it already exists.\n",
      "Ignoring reaction 'RXN_L2CP2_MG2_LIGHT' since it already exists.\n",
      "Ignoring reaction 'RXN_L2CP2_PROTON_LIGHT' since it already exists.\n",
      "Ignoring reaction 'RXN_L2CP2_NITRATE_LIGHT' since it already exists.\n",
      "Ignoring reaction 'RXN_L2CP2_SULFATE_LIGHT' since it already exists.\n",
      "Ignoring reaction 'RXN_L2CP2_AMMONIUM_LIGHT' since it already exists.\n",
      "Ignoring reaction 'RXN_L2CP2_FE2_LIGHT' since it already exists.\n",
      "Ignoring reaction 'RXN_L2CP2_FE3_LIGHT' since it already exists.\n",
      "Ignoring reaction 'RXN_L2CP2_K_LIGHT' since it already exists.\n",
      "Ignoring reaction 'RXN_L2CP2_NA_LIGHT' since it already exists.\n",
      "Ignoring reaction 'RXN_L2CP2_SUCROSE_LIGHT' since it already exists.\n",
      "Ignoring reaction 'RXN_R2CP1_CO2_DARK' since it already exists.\n",
      "Ignoring reaction 'RXN_R2CP1_WATER_DARK' since it already exists.\n",
      "Ignoring reaction 'RXN_R2CP1_ZN2_DARK' since it already exists.\n",
      "Ignoring reaction 'RXN_R2CP1_PI_DARK' since it already exists.\n",
      "Ignoring reaction 'RXN_R2CP1_CU2_DARK' since it already exists.\n",
      "Ignoring reaction 'RXN_R2CP1_MN2_DARK' since it already exists.\n",
      "Ignoring reaction 'RXN_R2CP1_MG2_DARK' since it already exists.\n",
      "Ignoring reaction 'RXN_R2CP1_PROTON_DARK' since it already exists.\n",
      "Ignoring reaction 'RXN_R2CP1_NITRATE_DARK' since it already exists.\n",
      "Ignoring reaction 'RXN_R2CP1_SULFATE_DARK' since it already exists.\n",
      "Ignoring reaction 'RXN_R2CP1_AMMONIUM_DARK' since it already exists.\n",
      "Ignoring reaction 'RXN_R2CP1_FE2_DARK' since it already exists.\n",
      "Ignoring reaction 'RXN_R2CP1_FE3_DARK' since it already exists.\n",
      "Ignoring reaction 'RXN_R2CP1_K_DARK' since it already exists.\n",
      "Ignoring reaction 'RXN_R2CP1_NA_DARK' since it already exists.\n",
      "Ignoring reaction 'RXN_R2CP1_SUCROSE_DARK' since it already exists.\n",
      "Ignoring reaction 'RXN_S2CP1_CO2_DARK' since it already exists.\n",
      "Ignoring reaction 'RXN_S2CP1_WATER_DARK' since it already exists.\n",
      "Ignoring reaction 'RXN_S2CP1_ZN2_DARK' since it already exists.\n",
      "Ignoring reaction 'RXN_S2CP1_PI_DARK' since it already exists.\n",
      "Ignoring reaction 'RXN_S2CP1_CU2_DARK' since it already exists.\n",
      "Ignoring reaction 'RXN_S2CP1_MN2_DARK' since it already exists.\n",
      "Ignoring reaction 'RXN_S2CP1_MG2_DARK' since it already exists.\n",
      "Ignoring reaction 'RXN_S2CP1_PROTON_DARK' since it already exists.\n",
      "Ignoring reaction 'RXN_S2CP1_NITRATE_DARK' since it already exists.\n",
      "Ignoring reaction 'RXN_S2CP1_SULFATE_DARK' since it already exists.\n",
      "Ignoring reaction 'RXN_S2CP1_AMMONIUM_DARK' since it already exists.\n",
      "Ignoring reaction 'RXN_S2CP1_FE2_DARK' since it already exists.\n",
      "Ignoring reaction 'RXN_S2CP1_FE3_DARK' since it already exists.\n",
      "Ignoring reaction 'RXN_S2CP1_K_DARK' since it already exists.\n",
      "Ignoring reaction 'RXN_S2CP1_NA_DARK' since it already exists.\n",
      "Ignoring reaction 'RXN_S2CP1_SUCROSE_DARK' since it already exists.\n",
      "Ignoring reaction 'RXN_S2CP2_CO2_DARK' since it already exists.\n",
      "Ignoring reaction 'RXN_S2CP2_WATER_DARK' since it already exists.\n",
      "Ignoring reaction 'RXN_S2CP2_ZN2_DARK' since it already exists.\n",
      "Ignoring reaction 'RXN_S2CP2_PI_DARK' since it already exists.\n",
      "Ignoring reaction 'RXN_S2CP2_CU2_DARK' since it already exists.\n",
      "Ignoring reaction 'RXN_S2CP2_MN2_DARK' since it already exists.\n",
      "Ignoring reaction 'RXN_S2CP2_MG2_DARK' since it already exists.\n",
      "Ignoring reaction 'RXN_S2CP2_PROTON_DARK' since it already exists.\n",
      "Ignoring reaction 'RXN_S2CP2_NITRATE_DARK' since it already exists.\n",
      "Ignoring reaction 'RXN_S2CP2_SULFATE_DARK' since it already exists.\n",
      "Ignoring reaction 'RXN_S2CP2_AMMONIUM_DARK' since it already exists.\n",
      "Ignoring reaction 'RXN_S2CP2_FE2_DARK' since it already exists.\n",
      "Ignoring reaction 'RXN_S2CP2_FE3_DARK' since it already exists.\n",
      "Ignoring reaction 'RXN_S2CP2_K_DARK' since it already exists.\n",
      "Ignoring reaction 'RXN_S2CP2_NA_DARK' since it already exists.\n",
      "Ignoring reaction 'RXN_S2CP2_SUCROSE_DARK' since it already exists.\n",
      "Ignoring reaction 'RXN_L2CP2_CO2_DARK' since it already exists.\n",
      "Ignoring reaction 'RXN_L2CP2_WATER_DARK' since it already exists.\n",
      "Ignoring reaction 'RXN_L2CP2_ZN2_DARK' since it already exists.\n",
      "Ignoring reaction 'RXN_L2CP2_PI_DARK' since it already exists.\n",
      "Ignoring reaction 'RXN_L2CP2_CU2_DARK' since it already exists.\n",
      "Ignoring reaction 'RXN_L2CP2_MN2_DARK' since it already exists.\n",
      "Ignoring reaction 'RXN_L2CP2_MG2_DARK' since it already exists.\n",
      "Ignoring reaction 'RXN_L2CP2_PROTON_DARK' since it already exists.\n",
      "Ignoring reaction 'RXN_L2CP2_NITRATE_DARK' since it already exists.\n",
      "Ignoring reaction 'RXN_L2CP2_SULFATE_DARK' since it already exists.\n",
      "Ignoring reaction 'RXN_L2CP2_AMMONIUM_DARK' since it already exists.\n",
      "Ignoring reaction 'RXN_L2CP2_FE2_DARK' since it already exists.\n",
      "Ignoring reaction 'RXN_L2CP2_FE3_DARK' since it already exists.\n",
      "Ignoring reaction 'RXN_L2CP2_K_DARK' since it already exists.\n",
      "Ignoring reaction 'RXN_L2CP2_NA_DARK' since it already exists.\n",
      "Ignoring reaction 'RXN_L2CP2_SUCROSE_DARK' since it already exists.\n"
     ]
    },
    {
     "name": "stdout",
     "output_type": "stream",
     "text": [
      "success\n"
     ]
    }
   ],
   "source": [
    "# Load inter-tissue transport reaction identifiers\n",
    "it_ids = open('intertissue_transport_ids.txt')\n",
    "IT_rxnIDs = it_ids.read().splitlines()\n",
    "it_ids.close()\n",
    "\n",
    "# Load inter-tissue transport reaction equations\n",
    "it_id_eqs = open('intertissue_transport_eqs.txt')\n",
    "IT_rxnEQs = it_id_eqs.read().splitlines()\n",
    "it_id_eqs.close()\n",
    "\n",
    "rxn_list = [False]*len(IT_rxnIDs)\n",
    "\n",
    "# Extract the cobra Reaction object corresponding to the inter-tissue transport reactions\n",
    "for idx,rxnID in enumerate(IT_rxnIDs):\n",
    "\n",
    "  #rxn_list becomes an list of reaction objects\n",
    "  rxn_list[idx] = drought_model.reactions.get_by_id(rxnID) \n",
    "\n",
    "# Edit the reaction stoichiometric coefficients to account for tissue fractions at different time-points\n",
    "for idx, rxns in enumerate(rxn_list):\n",
    "\n",
    "  #for debugging\n",
    "  #print(idx)\n",
    "  #turns out idx is index of reaction in the temp\n",
    "\n",
    "  temp_halves = IT_rxnEQs[idx].split(' <=> ')\n",
    "  \n",
    "  if 'R2CP1' in str(IT_rxnIDs[idx]):   \n",
    "    rxns.build_reaction_from_string('1 '+temp_halves[0]+' <=> '+str(R_fraction_0)+' '+temp_halves[1])\n",
    "  \n",
    "  if 'S2CP1' in str(IT_rxnIDs[idx]):\n",
    "    rxns.build_reaction_from_string('1 '+temp_halves[0]+' <=> '+str(S_fraction_0)+' '+temp_halves[1])\n",
    "  \n",
    "  if 'S2CP2' in str(IT_rxnIDs[idx]):\n",
    "    rxns.build_reaction_from_string('1 '+temp_halves[0]+' <=> '+str(S_fraction_0)+' '+temp_halves[1])\n",
    "  \n",
    "  if 'L2CP2' in str(IT_rxnIDs[idx]):\n",
    "    rxns.build_reaction_from_string('1 '+temp_halves[0]+' <=> '+str(L_fraction_0)+' '+temp_halves[1])\n",
    "        \n",
    "  #for debugging\n",
    "  #print(rxns)\n",
    "  \n",
    "  # Add the reactions back to the model\n",
    "  #note: this will throw a lot of \"ignoring reaction '...' since it already exists\" warnings. It does appear that this does update the stoichiometry (I checked the stoichiometry of RXN_L2CP2_SUCROSE DARK before and after) this code block and the stoichiometry is updated, the warning I think\n",
    "  \n",
    "  #update the reaction stoichiometry\n",
    "  drought_model.add_reactions([rxns])\n",
    "\n",
    "  #give bounds allowing flow of metabolites in either direction\n",
    "  drought_model.reactions.get_by_id(rxns.id).lower_bound = -10000; drought_model.reactions.get_by_id(rxns.id).upper_bound = 10000\n",
    "\n",
    "print(\"success\")"
   ]
  },
  {
   "cell_type": "markdown",
   "id": "b321c3e2",
   "metadata": {},
   "source": [
    "#### Add pysical/sensible constraints to the model"
   ]
  },
  {
   "cell_type": "code",
   "execution_count": 5,
   "id": "4faf113b",
   "metadata": {},
   "outputs": [],
   "source": [
    "#diurnal or sensible restrictions on flow of metabolites across system boundary\n",
    "## NIGHT restrictions\n",
    "drought_model.reactions.RXN_E2L_CO2_DARK.lower_bound = -10000;drought_model.reactions.RXN_E2L_CO2_DARK.upper_bound = 0              #CO2 export from leaf (heterotrophic growth)\n",
    "drought_model.reactions.RXN_E2L_LIGHT__L___DARK.lower_bound = 0;drought_model.reactions.RXN_E2L_LIGHT__L___DARK.upper_bound = 0     #no light uptake in leaf (heterotrophic growth)\n",
    "drought_model.reactions.RXN_E2S_LIGHT__S___DARK.lower_bound = 0;drought_model.reactions.RXN_E2S_LIGHT__S___DARK.upper_bound = 0     #no light uptake in stem (heterotrophic growth)\n",
    "drought_model.reactions.RXN_RIBULOSE_BISPHOSPHATE_CARBOXYLASE_RXN_p__L___DARK.upper_bound = 0                                       #turns off rubisco CO2 fixation to be safe\n",
    "drought_model.reactions.RXN_E2S_CO2_DARK.lower_bound = 0;drought_model.reactions.RXN_E2S_CO2_DARK.upper_bound = 10000               #stem exports CO2 during night\n",
    "\n",
    "## DAY restrictions\n",
    "drought_model.reactions.RXN_E2L_CO2_LIGHT.lower_bound = 0;drought_model.reactions.RXN_E2L_CO2_LIGHT.upper_bound = 10000               #leaf uptakes CO2 during day (phototrophic metabolism)\n",
    "drought_model.reactions.RXN_E2L_LIGHT__L___LIGHT.lower_bound = 0;drought_model.reactions.RXN_E2L_LIGHT__L___LIGHT.upper_bound = 10000   #leaf uptakes light during day\n",
    "drought_model.reactions.RXN_E2S_LIGHT__S___LIGHT.lower_bound = 0;drought_model.reactions.RXN_E2S_LIGHT__S___LIGHT.upper_bound = stem_photon_uptake_ub   #stem can uptake some limited light during day\n",
    "drought_model.reactions.RXN_E2S_CO2_LIGHT.lower_bound = 0;drought_model.reactions.RXN_E2S_CO2_LIGHT.upper_bound = 10000             #stem exports CO2 during day"
   ]
  },
  {
   "cell_type": "markdown",
   "id": "e838b04d",
   "metadata": {},
   "source": [
    "#### Add constraints to the model, fo the drought we need 2-3, 12, 14-19, 21, 23-26"
   ]
  },
  {
   "cell_type": "code",
   "execution_count": 6,
   "id": "5e2acae7",
   "metadata": {},
   "outputs": [],
   "source": [
    "# mass balance constraint should be automatically enforced by COBRA (equation 2)\n",
    "# reaction flux bound constraints should be automatically enforced by COBRA (equation 3)\n",
    "\n",
    "# enforce NGAM values (equation 12)\n",
    "#drought_model.reactions.RXN_ATPM_c__L___LIGHT.upper_bound = NGAM; drought_model.reactions.RXN_ATPM_c__L___LIGHT.lower_bound = NGAM\n",
    "#drought_model.reactions.RXN_ATPM_c__S___LIGHT.upper_bound = NGAM; drought_model.reactions.RXN_ATPM_c__S___LIGHT.lower_bound = NGAM\n",
    "#drought_model.reactions.RXN_ATPM_c__R___LIGHT.upper_bound = NGAM; drought_model.reactions.RXN_ATPM_c__R___LIGHT.lower_bound = NGAM\n",
    "\n",
    "#drought_model.reactions.RXN_ATPM_c__L___DARK.upper_bound = NGAM; drought_model.reactions.RXN_ATPM_c__L___DARK.lower_bound = NGAM\n",
    "#drought_model.reactions.RXN_ATPM_c__S___DARK.upper_bound = NGAM; drought_model.reactions.RXN_ATPM_c__S___DARK.lower_bound = NGAM\n",
    "#drought_model.reactions.RXN_ATPM_c__R___DARK.upper_bound = NGAM; drought_model.reactions.RXN_ATPM_c__R___DARK.lower_bound = NGAM\n",
    "\n",
    "#require that all ngam values are equal\n",
    "ngam_equal_1_dark = drought_model.problem.Constraint(drought_model.reactions.RXN_ATPM_c__L___DARK.flux_expression - drought_model.reactions.RXN_ATPM_c__S___DARK.flux_expression, ub = 0, lb = 0)\n",
    "ngam_equal_2_dark = drought_model.problem.Constraint(drought_model.reactions.RXN_ATPM_c__L___DARK.flux_expression - drought_model.reactions.RXN_ATPM_c__R___DARK.flux_expression, ub = 0, lb = 0)\n",
    "ngam_equal_1_light = drought_model.problem.Constraint(drought_model.reactions.RXN_ATPM_c__L___LIGHT.flux_expression - drought_model.reactions.RXN_ATPM_c__S___LIGHT.flux_expression, ub = 0, lb = 0)\n",
    "ngam_equal_2_light = drought_model.problem.Constraint(drought_model.reactions.RXN_ATPM_c__L___LIGHT.flux_expression - drought_model.reactions.RXN_ATPM_c__R___LIGHT.flux_expression, ub = 0, lb = 0)\n",
    "ngam_equal_dark_light = drought_model.problem.Constraint(drought_model.reactions.RXN_ATPM_c__L___LIGHT.flux_expression - drought_model.reactions.RXN_ATPM_c__L___DARK.flux_expression, ub = 0, lb = 0)\n",
    "\n",
    "drought_model.add_cons_vars(ngam_equal_1_dark)\n",
    "drought_model.add_cons_vars(ngam_equal_2_dark)\n",
    "drought_model.add_cons_vars(ngam_equal_1_light)\n",
    "drought_model.add_cons_vars(ngam_equal_2_light)\n",
    "drought_model.add_cons_vars(ngam_equal_dark_light)\n",
    "\n",
    "## Imposes that the transport of CO2 from the stem xylem to leaves is at most 2.7% of absorbed atmospheric CO2 (equation 14)\n",
    "#RXN_L2CP2_CO2_LIGHT is positive if loading CO2 into the CP2 \n",
    "#RXN_E2L_CO2_LIGHT is positive if CO2 is moving into the leaf extracellular compartment from the shared extracellular compartment\n",
    "co2tr = drought_model.problem.Constraint(drought_model.reactions.RXN_L2CP2_CO2_LIGHT.flux_expression + 0.027 * drought_model.reactions.RXN_E2L_CO2_LIGHT.flux_expression, ub = 10000, lb=0)\n",
    "drought_model.add_cons_vars(co2tr)\n",
    "\n",
    "## Imposes that the amount of respired CO2 loaded onto the xylem by the roots rivals (in this case, equals) the export of CO2 to the soil (environment) (equation 15)\n",
    "co2tr2 = drought_model.problem.Constraint(drought_model.reactions.RXN_E2R_CO2_LIGHT.flux_expression - drought_model.reactions.RXN_R2CP1_CO2_LIGHT.flux_expression, ub=0, lb=0)\n",
    "co2tr3 = drought_model.problem.Constraint(drought_model.reactions.RXN_E2R_CO2_DARK.flux_expression - drought_model.reactions.RXN_R2CP1_CO2_DARK.flux_expression, ub=0, lb=0)\n",
    "drought_model.add_cons_vars(co2tr2)  \n",
    "drought_model.add_cons_vars(co2tr3) \n",
    "\n",
    "# limit photon uptake in the light based on calculations described in the paper (equation 16)\n",
    "drought_model.reactions.RXN_E2L_LIGHT__L___LIGHT.lower_bound = 0;drought_model.reactions.RXN_E2L_LIGHT__L___LIGHT.upper_bound = leaf_photon_uptake_ub\n",
    "\n",
    "## Allowing storage of respired CO2 in the stem, working toward building equation 17\n",
    "drought_model.add_boundary(drought_model.metabolites.MET_carbon_dioxide_c__S___DARK,type = \"demand\")\n",
    "drought_model.add_boundary(drought_model.metabolites.MET_carbon_dioxide_c__S___LIGHT,type = \"sink\")\n",
    "\n",
    "#This prevents CO2 storage during the day\n",
    "drought_model.reactions.SK_MET_carbon_dioxide_c__S___LIGHT.upper_bound = 0; \n",
    "\n",
    "# Imposes that 10% of respired CO2 is stored into the stems during the night (equation 17)\n",
    "# requiring 10% storage\n",
    "co2storage = drought_model.problem.Constraint(0.1*drought_model.reactions.RXN_E2S_CO2_DARK.flux_expression - drought_model.reactions.DM_MET_carbon_dioxide_c__S___DARK.flux_expression, ub = 0, lb = 0)\n",
    "\n",
    "# requiring the storage at night to equal its use in day\n",
    "co2storage2 = drought_model.problem.Constraint(drought_model.reactions.SK_MET_carbon_dioxide_c__S___LIGHT.flux_expression + drought_model.reactions.DM_MET_carbon_dioxide_c__S___DARK.flux_expression, ub = 0, lb = 0)\n",
    "\n",
    "drought_model.add_cons_vars(co2storage)\n",
    "drought_model.add_cons_vars(co2storage2)\n",
    "\n",
    "# Adding connecting starch reactions for creating equations 18 and 19\n",
    "## Define sink and demand reactions\n",
    "## sing reactions are for removal of starch from storage, demand are for adding starch to storage\n",
    "drought_model.add_boundary(drought_model.metabolites.MET_starch_p__L___LIGHT, type=\"demand\")\n",
    "drought_model.add_boundary(drought_model.metabolites.MET_starch_p__S___LIGHT, type=\"demand\")\n",
    "drought_model.add_boundary(drought_model.metabolites.MET_starch_p__L___DARK, type=\"sink\")\n",
    "drought_model.add_boundary(drought_model.metabolites.MET_starch_p__S___DARK, type=\"sink\")\n",
    "    \n",
    "# Only allows consumption of starch at night\n",
    "drought_model.reactions.SK_MET_starch_p__L___DARK.upper_bound = 0\n",
    "drought_model.reactions.SK_MET_starch_p__S___DARK.upper_bound = 0\n",
    "\n",
    "# by default, demand reactions have LB = 0, so don't need to specify this to ensure only storage during day. \n",
    "\n",
    "## Requiring that starch producded during the day is used at night, and visa versa (equations 18 and 19)\n",
    "# leaf\n",
    "starchprodL = drought_model.problem.Constraint(drought_model.reactions.DM_MET_starch_p__L___LIGHT.flux_expression + drought_model.reactions.SK_MET_starch_p__L___DARK.flux_expression, lb = 0, ub = 0)\n",
    "drought_model.add_cons_vars(starchprodL)\n",
    "\n",
    "#stem\n",
    "starchprodS = drought_model.problem.Constraint(drought_model.reactions.DM_MET_starch_p__S___LIGHT.flux_expression + drought_model.reactions.SK_MET_starch_p__S___DARK.flux_expression, lb = 0, ub = 0)\n",
    "drought_model.add_cons_vars(starchprodS)\n",
    "\n",
    "## Imposes a photorespiration rate of 25% during the day (equation 21)\n",
    "photoresp = drought_model.problem.Constraint(drought_model.reactions.RXN_RIBULOSE_BISPHOSPHATE_CARBOXYLASE_RXN_p__L___LIGHT.flux_expression + 2*drought_model.reactions.RXN_RXN_961_p__L___LIGHT.flux_expression, ub=0,lb=0)\n",
    "drought_model.add_cons_vars(photoresp)\n",
    "\n",
    "## toward eqauations 23\n",
    "#based on maintaining leaf to shoot ratio, define what is in the parentehses of constraints 23\n",
    "alpha = (np.log(Init_L_mass) - np.log(Init_L_mass / Init_S_mass) - np.log(Init_S_mass))/171\n",
    "\n",
    "# Links the growth rates of the stem and leaf, maintaining the L/S ratio as in control plants\n",
    "LtoSratio = drought_model.problem.Constraint((alpha + drought_model.reactions.RXN_BiomassRxn__L___DARK.flux_expression) - drought_model.reactions.RXN_BiomassRxn__S___DARK.flux_expression, ub = 0, lb = 0)\n",
    "\n",
    "drought_model.add_cons_vars(LtoSratio)\n",
    "\n",
    "## Limit growth rates of tissues based on those of control (equation 25)\n",
    "drought_model.reactions.RXN_BiomassRxn__R___DARK.lower_bound = cont_root_g * r_g_frac_H2 ; drought_model.reactions.RXN_BiomassRxn__R___DARK.upper_bound = cont_root_g * r_g_frac_H2\n",
    "drought_model.reactions.RXN_BiomassRxn__S___DARK.lower_bound = cont_stem_g * s_g_frac_H2 ; drought_model.reactions.RXN_BiomassRxn__S___DARK.upper_bound = cont_stem_g * s_g_frac_H2\n",
    "drought_model.reactions.RXN_BiomassRxn__L___DARK.lower_bound = 0 ; drought_model.reactions.RXN_BiomassRxn__L___DARK.upper_bound = cont_leaf_g\n",
    "drought_model.reactions.RXN_BiomassRxn__L___LIGHT.lower_bound = 0 ; drought_model.reactions.RXN_BiomassRxn__L___LIGHT.upper_bound = 0\n",
    "drought_model.reactions.RXN_BiomassRxn__S___LIGHT.lower_bound = 0 ; drought_model.reactions.RXN_BiomassRxn__S___LIGHT.upper_bound = 0\n",
    "drought_model.reactions.RXN_BiomassRxn__R___LIGHT.lower_bound = 0 ; drought_model.reactions.RXN_BiomassRxn__R___LIGHT.upper_bound = 0\n",
    "\n",
    "# Limit carbon dioxide uptake by  CO2 uptake of control (equation 26)\n",
    "drought_model.reactions.RXN_E2L_CO2_LIGHT.upper_bound = co2_min_cont * a_frac_H2"
   ]
  },
  {
   "cell_type": "code",
   "execution_count": 7,
   "id": "d386ab87",
   "metadata": {},
   "outputs": [
    {
     "data": {
      "text/plain": [
       "5.1940258461995625e-18"
      ]
     },
     "execution_count": 7,
     "metadata": {},
     "output_type": "execute_result"
    }
   ],
   "source": [
    "alpha"
   ]
  },
  {
   "cell_type": "markdown",
   "id": "2073be0a",
   "metadata": {},
   "source": [
    "#### set the objective and direction"
   ]
  },
  {
   "cell_type": "code",
   "execution_count": 8,
   "id": "27a0f6a5",
   "metadata": {},
   "outputs": [],
   "source": [
    "# Sets the model's objective and objective direction\n",
    "drought_model.objective = drought_model.reactions.RXN_ATPM_c__S___DARK\n",
    "drought_model.objective_direction = 'max'"
   ]
  },
  {
   "cell_type": "markdown",
   "id": "fc2ae817",
   "metadata": {},
   "source": [
    "#### Solve the model, report results"
   ]
  },
  {
   "cell_type": "code",
   "execution_count": 9,
   "id": "4a6ed5c3",
   "metadata": {},
   "outputs": [],
   "source": [
    "# Solves the model\n",
    "d_solution = cobra.flux_analysis.pfba(drought_model)"
   ]
  },
  {
   "cell_type": "code",
   "execution_count": 10,
   "id": "afddb944",
   "metadata": {},
   "outputs": [
    {
     "name": "stdout",
     "output_type": "stream",
     "text": [
      "total sum of fluxes:\t\t3499.0090955778146 mmol/gDWday\n",
      "starch production in the leaf:\t0.5612319413948457 mmol/gDWday\n",
      "starch production in the stem:\t0.28296118630309813 mmol/gDWday\n",
      "Day leaf CO2 uptake:\t\t18.72 mmol/gDWday\n",
      "Night leaf CO2 efflux:\t\t-0.0 mmol/gDWday\n",
      "Day stem CO2 efflux:\t\t0.0 mmol/gDWday\n",
      "Night stem CO2 efflux:\t\t9.209157836038795 mmol/gDWday\n",
      "Day root CO2 efflux:\t\t2.4184419751734376 mmol/gDWday\n",
      "Night root CO2 efflux:\t\t2.4424737514799717 mmol/gDWday\n",
      "Total CO2 efflux:\t\t14.070073562692203 mmol/gDWday\n",
      "Net CO2 uptake:\t\t\t4.649926437307796 mmol/gDWday\n",
      "\n",
      "Leaf growth rate:\t\t\t0.0001422273999999948 mmol/gdWday\n",
      "Stem growth rate (inner obj):\t\t0.0001422274 mmol/gdWday\n",
      "Root growth rate:\t\t\t0.00275366769 mmol/gdWday\n",
      "Leaf growth rate (% of control):\t7.307368230683123%\n",
      "Stem growth rate (% of control):\t4.0%\n",
      "Root growth rate (% of control):\t93.0%\n",
      "\n",
      "Estimated NGAM:\t\t 19.347535801387505\n",
      "\n",
      "GAM cost:\t\t\t2.105783460268796 mmol/gDWday\n"
     ]
    }
   ],
   "source": [
    "# Print statements\n",
    "print(\"total sum of fluxes:\\t\\t\"+str(d_solution.objective_value)+\" mmol/gDWday\")\n",
    "print(\"starch production in the leaf:\\t\"+str(d_solution.fluxes.DM_MET_starch_p__L___LIGHT) +\" mmol/gDWday\")\n",
    "print(\"starch production in the stem:\\t\"+str(d_solution.fluxes.DM_MET_starch_p__S___LIGHT) +\" mmol/gDWday\")\n",
    "\n",
    "print(\"Day leaf CO2 uptake:\\t\\t\"+ str(d_solution.fluxes.RXN_E2L_CO2_LIGHT)+\" mmol/gDWday\")\n",
    "print(\"Night leaf CO2 efflux:\\t\\t\"+ str(-d_solution.fluxes.RXN_E2L_CO2_DARK)+\" mmol/gDWday\")\n",
    "print(\"Day stem CO2 efflux:\\t\\t\"+ str(d_solution.fluxes.RXN_E2S_CO2_LIGHT)+\" mmol/gDWday\")\n",
    "print(\"Night stem CO2 efflux:\\t\\t\"+ str(d_solution.fluxes.RXN_E2S_CO2_DARK)+\" mmol/gDWday\")\n",
    "print(\"Day root CO2 efflux:\\t\\t\"+ str(d_solution.fluxes.RXN_E2R_CO2_LIGHT)+\" mmol/gDWday\")\n",
    "print(\"Night root CO2 efflux:\\t\\t\"+ str(d_solution.fluxes.RXN_E2R_CO2_DARK)+\" mmol/gDWday\")\n",
    "\n",
    "total_efflux = -d_solution.fluxes.RXN_E2L_CO2_DARK + d_solution.fluxes.RXN_E2S_CO2_LIGHT + d_solution.fluxes.RXN_E2S_CO2_DARK + d_solution.fluxes.RXN_E2R_CO2_LIGHT + d_solution.fluxes.RXN_E2R_CO2_DARK\n",
    "print(\"Total CO2 efflux:\\t\\t\"+ str(total_efflux)+\" mmol/gDWday\")\n",
    "\n",
    "net_CO2 = d_solution.fluxes.RXN_E2L_CO2_LIGHT - total_efflux\n",
    "\n",
    "print(\"Net CO2 uptake:\\t\\t\\t\"+ str(net_CO2)+\" mmol/gDWday\\n\")\n",
    "\n",
    "print(\"Leaf growth rate:\\t\\t\\t\"+ str(d_solution.fluxes.RXN_BiomassRxn__L___DARK)+\" mmol/gdWday\")\n",
    "print(\"Stem growth rate (inner obj):\\t\\t\"+ str(d_solution.fluxes.RXN_BiomassRxn__S___DARK)+\" mmol/gdWday\")\n",
    "print(\"Root growth rate:\\t\\t\\t\"+ str(d_solution.fluxes.RXN_BiomassRxn__R___DARK)+\" mmol/gdWday\")\n",
    "print(\"Leaf growth rate (% of control):\\t\"+ str((d_solution.fluxes.RXN_BiomassRxn__L___DARK/cont_leaf_g)*100)+\"%\")\n",
    "print(\"Stem growth rate (% of control):\\t\"+ str((d_solution.fluxes.RXN_BiomassRxn__S___DARK/cont_stem_g)*100)+\"%\")\n",
    "print(\"Root growth rate (% of control):\\t\"+ str((d_solution.fluxes.RXN_BiomassRxn__R___DARK/cont_root_g)*100)+\"%\")\n",
    "\n",
    "print(\"\\nEstimated NGAM:\\t\\t\",d_solution.fluxes.RXN_ATPM_c__S___DARK)\n",
    "\n",
    "gam_cost = 693.12 * (d_solution.fluxes.RXN_BiomassRxn__L___DARK + d_solution.fluxes.RXN_BiomassRxn__S___DARK + d_solution.fluxes.RXN_BiomassRxn__R___DARK)\n",
    "\n",
    "print(\"\\nGAM cost:\\t\\t\\t\"+ str(gam_cost)+\" mmol/gDWday\")\n",
    "\n",
    "df = pd.DataFrame([[d_solution.fluxes[n]] for n in range(0, len(d_solution.fluxes))])\n",
    "df.index = [rxn.id for rxn in drought_model.reactions]\n",
    "df.to_csv('pFBA_results_drought_H2.csv', sep=',', index=True)"
   ]
  },
  {
   "cell_type": "markdown",
   "id": "412dfc64",
   "metadata": {},
   "source": [
    "#### Write growth rates to an output file"
   ]
  },
  {
   "cell_type": "code",
   "execution_count": 11,
   "id": "3413fb8e",
   "metadata": {},
   "outputs": [],
   "source": [
    "growth_out = open(\"drought_g_rates_H2.txt\",\"w\")\n",
    "growth_out.write(\"leaf: \"+str(d_solution.fluxes.RXN_BiomassRxn__L___DARK))\n",
    "growth_out.write(\"\\nstem: \"+str(d_solution.fluxes.RXN_BiomassRxn__S___DARK))\n",
    "growth_out.write(\"\\nroot: \"+str(d_solution.fluxes.RXN_BiomassRxn__R___DARK))\n",
    "growth_out.close()"
   ]
  },
  {
   "cell_type": "markdown",
   "id": "66d22c3c",
   "metadata": {},
   "source": [
    "#### Report NGAM estimate"
   ]
  },
  {
   "cell_type": "code",
   "execution_count": 12,
   "id": "6d06d6cf",
   "metadata": {},
   "outputs": [],
   "source": [
    "ngam_out = open(\"iPotri2999D_NGAM_H2_est.txt\",\"w\")\n",
    "ngam_out.write(str(d_solution.fluxes.RXN_ATPM_c__S___DARK))\n",
    "ngam_out.close()"
   ]
  }
 ],
 "metadata": {
  "kernelspec": {
   "display_name": "Python 3",
   "language": "python",
   "name": "python3"
  },
  "language_info": {
   "codemirror_mode": {
    "name": "ipython",
    "version": 3
   },
   "file_extension": ".py",
   "mimetype": "text/x-python",
   "name": "python",
   "nbconvert_exporter": "python",
   "pygments_lexer": "ipython3",
   "version": "3.8.8"
  }
 },
 "nbformat": 4,
 "nbformat_minor": 5
}
