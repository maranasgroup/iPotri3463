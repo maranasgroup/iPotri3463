{
 "cells": [
  {
   "cell_type": "markdown",
   "id": "57b355c0",
   "metadata": {},
   "source": [
    "# pFBA simulation for the MT-GSM of Poplar tricocarpa\n",
    "## Original Code: Juliana Simas Barbosa\n",
    "## Edits/streamlining: Wheaton Schroeder\n",
    "### Latest Version: 08/28/2023"
   ]
  },
  {
   "cell_type": "markdown",
   "id": "8bbacc5b",
   "metadata": {},
   "source": [
    "#### Make library imports"
   ]
  },
  {
   "cell_type": "code",
   "execution_count": 1,
   "id": "129860dc",
   "metadata": {},
   "outputs": [],
   "source": [
    "# Import necessary libraries:\n",
    "import cobra\n",
    "import pandas as pd\n",
    "import matplotlib.pyplot as plt\n",
    "import numpy as np\n",
    "import string\n",
    "import warnings"
   ]
  },
  {
   "cell_type": "markdown",
   "id": "450b7e18",
   "metadata": {},
   "source": [
    "#### Define necessary functions"
   ]
  },
  {
   "cell_type": "markdown",
   "id": "3dacb6d6",
   "metadata": {},
   "source": [
    "#### set information for the runs"
   ]
  },
  {
   "cell_type": "code",
   "execution_count": 4,
   "id": "a27a3cc3",
   "metadata": {},
   "outputs": [
    {
     "name": "stdout",
     "output_type": "stream",
     "text": [
      "success\n"
     ]
    }
   ],
   "source": [
    "# initial inputs:\n",
    "## mass (gDW) of each tissue in year one \n",
    "### Leaf, stem, root\n",
    "#note that these values will be the same for colntorl and drought, as prolonged drought introduced in the growing season modeled\n",
    "\n",
    "#initial masses, from a paper\n",
    "#aaron hogan et al 2021 or 2020\n",
    "Init_S_mass = 185\n",
    "Init_R_mass = 112\n",
    "Init_L_mass = 121\n",
    "total_mass = Init_S_mass + Init_R_mass + Init_L_mass\n",
    "\n",
    "#fitted starts, from fitting of growth curves\n",
    "#Init_S_mass = 100.54\n",
    "#Init_R_mass = 67.403\n",
    "#Init_L_mass = 86.659\n",
    "#total_mass = Init_S_mass + Init_R_mass + Init_L_mass\n",
    "\n",
    "#growth rates for the control model, calculated by fitting an experimental function\n",
    "cont_leaf_g = 0.001946356\n",
    "cont_root_g = 0.002960933\n",
    "cont_stem_g = 0.003555685\n",
    "\n",
    "#mass fractions at first time point\n",
    "L_fraction_0 = Init_L_mass/total_mass\n",
    "R_fraction_0 = Init_R_mass/total_mass\n",
    "S_fraction_0 = Init_S_mass/total_mass\n",
    "\n",
    "#mass values at end of simulated growing season\n",
    "stem_fitted_1 = Init_S_mass * np.exp(cont_stem_g * 171) \n",
    "root_fitted_1 = Init_R_mass * np.exp(cont_root_g * 171) \n",
    "leaf_fitted_1 = Init_L_mass * np.exp(cont_leaf_g * 171)\n",
    "total_fitted_1 = stem_fitted_1 + root_fitted_1 + leaf_fitted_1\n",
    "\n",
    "#we need to define leaf to shoot (sigma) and root to shoot (gamma) values based on the next time point for \n",
    "sigma = leaf_fitted_1 / stem_fitted_1\n",
    "gamma = 2 * root_fitted_1 / stem_fitted_1\n",
    "\n",
    "#photon uptake limits\n",
    "stem_photon_uptake_ub = 443\n",
    "leaf_photon_uptake_ub = 443\n",
    "\n",
    "#non-growth associated maintenance\n",
    "NGAM = 23.07238\n",
    "\n",
    "#control model file\n",
    "control_file = \"./iPotri3016C.xml\"\n",
    "\n",
    "print(\"success\")"
   ]
  },
  {
   "cell_type": "markdown",
   "id": "0a24ddf2",
   "metadata": {},
   "source": [
    "#calculate the required stem growth rate\n",
    "v_stem = v_root = (np.log())"
   ]
  },
  {
   "cell_type": "markdown",
   "id": "515b6d51",
   "metadata": {},
   "source": [
    "#### read the model"
   ]
  },
  {
   "cell_type": "code",
   "execution_count": 5,
   "id": "52684472",
   "metadata": {},
   "outputs": [
    {
     "name": "stderr",
     "output_type": "stream",
     "text": [
      "No objective coefficients in model. Unclear what should be optimized\n"
     ]
    },
    {
     "name": "stdout",
     "output_type": "stream",
     "text": [
      "success\n"
     ]
    }
   ],
   "source": [
    "# Load the model\n",
    "control_model = cobra.io.read_sbml_model(control_file)\n",
    "\n",
    "print(\"success\")"
   ]
  },
  {
   "cell_type": "markdown",
   "id": "48f9a6de",
   "metadata": {},
   "source": [
    "#### update model intertissue transport reactions"
   ]
  },
  {
   "cell_type": "code",
   "execution_count": 6,
   "id": "bda476f7",
   "metadata": {},
   "outputs": [
    {
     "ename": "FileNotFoundError",
     "evalue": "[Errno 2] No such file or directory: 'intertissue_transport_ids.txt'",
     "output_type": "error",
     "traceback": [
      "\u001b[0;31m---------------------------------------------------------------------------\u001b[0m",
      "\u001b[0;31mFileNotFoundError\u001b[0m                         Traceback (most recent call last)",
      "\u001b[0;32m<ipython-input-6-ff58b9bf7844>\u001b[0m in \u001b[0;36m<module>\u001b[0;34m\u001b[0m\n\u001b[1;32m      1\u001b[0m \u001b[0;31m# Load inter-tissue transport reaction identifiers\u001b[0m\u001b[0;34m\u001b[0m\u001b[0;34m\u001b[0m\u001b[0;34m\u001b[0m\u001b[0m\n\u001b[0;32m----> 2\u001b[0;31m \u001b[0mit_ids\u001b[0m \u001b[0;34m=\u001b[0m \u001b[0mopen\u001b[0m\u001b[0;34m(\u001b[0m\u001b[0;34m'intertissue_transport_ids.txt'\u001b[0m\u001b[0;34m)\u001b[0m\u001b[0;34m\u001b[0m\u001b[0;34m\u001b[0m\u001b[0m\n\u001b[0m\u001b[1;32m      3\u001b[0m \u001b[0mIT_rxnIDs\u001b[0m \u001b[0;34m=\u001b[0m \u001b[0mit_ids\u001b[0m\u001b[0;34m.\u001b[0m\u001b[0mread\u001b[0m\u001b[0;34m(\u001b[0m\u001b[0;34m)\u001b[0m\u001b[0;34m.\u001b[0m\u001b[0msplitlines\u001b[0m\u001b[0;34m(\u001b[0m\u001b[0;34m)\u001b[0m\u001b[0;34m\u001b[0m\u001b[0;34m\u001b[0m\u001b[0m\n\u001b[1;32m      4\u001b[0m \u001b[0mit_ids\u001b[0m\u001b[0;34m.\u001b[0m\u001b[0mclose\u001b[0m\u001b[0;34m(\u001b[0m\u001b[0;34m)\u001b[0m\u001b[0;34m\u001b[0m\u001b[0;34m\u001b[0m\u001b[0m\n\u001b[1;32m      5\u001b[0m \u001b[0;34m\u001b[0m\u001b[0m\n",
      "\u001b[0;31mFileNotFoundError\u001b[0m: [Errno 2] No such file or directory: 'intertissue_transport_ids.txt'"
     ]
    }
   ],
   "source": [
    "# Load inter-tissue transport reaction identifiers\n",
    "it_ids = open('intertissue_transport_ids.txt')\n",
    "IT_rxnIDs = it_ids.read().splitlines()\n",
    "it_ids.close()\n",
    "\n",
    "# Load inter-tissue transport reaction equations\n",
    "it_id_eqs = open('intertissue_transport_eqs.txt')\n",
    "IT_rxnEQs = it_id_eqs.read().splitlines()\n",
    "it_id_eqs.close()\n",
    "\n",
    "rxn_list = [False]*len(IT_rxnIDs)\n",
    "\n",
    "# Extract the cobra Reaction object corresponding to the inter-tissue transport reactions\n",
    "for idx,rxnID in enumerate(IT_rxnIDs):\n",
    "\n",
    "  #rxn_list becomes an list of reaction objects\n",
    "  rxn_list[idx] = control_model.reactions.get_by_id(rxnID) \n",
    "\n",
    "# Edit the reaction stoichiometric coefficients to account for tissue fractions at different time-points\n",
    "for idx, rxns in enumerate(rxn_list):\n",
    "\n",
    "  #for debugging\n",
    "  #print(idx)\n",
    "  #turns out idx is index of reaction in the temp\n",
    "\n",
    "  temp_halves = IT_rxnEQs[idx].split(' <=> ')\n",
    "  \n",
    "  if 'R2CP1' in str(IT_rxnIDs[idx]):   \n",
    "    rxns.build_reaction_from_string('1 '+temp_halves[0]+' <=> '+str(R_fraction_0)+' '+temp_halves[1])\n",
    "  \n",
    "  if 'S2CP1' in str(IT_rxnIDs[idx]):\n",
    "    rxns.build_reaction_from_string('1 '+temp_halves[0]+' <=> '+str(S_fraction_0)+' '+temp_halves[1])\n",
    "  \n",
    "  if 'S2CP2' in str(IT_rxnIDs[idx]):\n",
    "    rxns.build_reaction_from_string('1 '+temp_halves[0]+' <=> '+str(S_fraction_0)+' '+temp_halves[1])\n",
    "  \n",
    "  if 'L2CP2' in str(IT_rxnIDs[idx]):\n",
    "    rxns.build_reaction_from_string('1 '+temp_halves[0]+' <=> '+str(L_fraction_0)+' '+temp_halves[1])\n",
    "        \n",
    "  #for debugging\n",
    "  #print(rxns)\n",
    "  \n",
    "  # Add the reactions back to the model\n",
    "  #note: this will throw a lot of \"ignoring reaction '...' since it already exists\" warnings. It does appear that this does update the stoichiometry (I checked the stoichiometry of RXN_L2CP2_SUCROSE DARK before and after) this code block and the stoichiometry is updated, the warning I think\n",
    "  \n",
    "  #update the reaction stoichiometry\n",
    "  control_model.add_reactions([rxns])\n",
    "\n",
    "  #give bounds allowing flow of metabolites in either direction\n",
    "  control_model.reactions.get_by_id(rxns.id).lower_bound = -10000; control_model.reactions.get_by_id(rxns.id).upper_bound = 10000\n",
    "\n",
    "print(\"success\")"
   ]
  },
  {
   "cell_type": "markdown",
   "id": "4d1ed686",
   "metadata": {},
   "source": [
    "#### Add pysical/sensible constraints to the model"
   ]
  },
  {
   "cell_type": "code",
   "execution_count": null,
   "id": "a3669808",
   "metadata": {},
   "outputs": [],
   "source": [
    "#diurnal or sensible restrictions on flow of metabolites across system boundary\n",
    "## NIGHT restrictions\n",
    "control_model.reactions.RXN_E2L_CO2_DARK.lower_bound = -10000;control_model.reactions.RXN_E2L_CO2_DARK.upper_bound = 0              #CO2 export from leaf (heterotrophic growth)\n",
    "control_model.reactions.RXN_E2L_LIGHT__L___DARK.lower_bound = 0;control_model.reactions.RXN_E2L_LIGHT__L___DARK.upper_bound = 0     #no light uptake in leaf (heterotrophic growth)\n",
    "control_model.reactions.RXN_E2S_LIGHT__S___DARK.lower_bound = 0;control_model.reactions.RXN_E2S_LIGHT__S___DARK.upper_bound = 0     #no light uptake in stem (heterotrophic growth)\n",
    "control_model.reactions.RXN_RIBULOSE_BISPHOSPHATE_CARBOXYLASE_RXN_p__L___DARK.upper_bound = 0                                       #turns off rubisco CO2 fixation to be safe\n",
    "control_model.reactions.RXN_E2S_CO2_DARK.lower_bound = 0;control_model.reactions.RXN_E2S_CO2_DARK.upper_bound = 10000               #stem exports CO2 during night\n",
    "\n",
    "## DAY restrictions\n",
    "#restrict CO2 uptake to 23.4 mmol/gDWday as seen experimentally, determine NGAM from that\n",
    "control_model.reactions.RXN_E2L_CO2_LIGHT.lower_bound = 0;control_model.reactions.RXN_E2L_CO2_LIGHT.upper_bound = 23.4               #leaf uptakes CO2 during day (phototrophic metabolism)\n",
    "control_model.reactions.RXN_E2L_LIGHT__L___LIGHT.lower_bound = 0;control_model.reactions.RXN_E2L_LIGHT__L___LIGHT.upper_bound = 10000   #leaf uptakes light during day\n",
    "control_model.reactions.RXN_E2S_LIGHT__S___LIGHT.lower_bound = 0;control_model.reactions.RXN_E2S_LIGHT__S___LIGHT.upper_bound = stem_photon_uptake_ub   #stem can uptake some limited light during day\n",
    "control_model.reactions.RXN_E2S_CO2_LIGHT.lower_bound = 0;control_model.reactions.RXN_E2S_CO2_LIGHT.upper_bound = 10000             #stem exports CO2 during day\n",
    "\n",
    "print(\"success\")"
   ]
  },
  {
   "cell_type": "markdown",
   "id": "cc576ca9",
   "metadata": {},
   "source": [
    "#### build model constraints, control model needs 2-3, 11-12, and 14-20"
   ]
  },
  {
   "cell_type": "code",
   "execution_count": null,
   "id": "afe60daa",
   "metadata": {},
   "outputs": [],
   "source": [
    "# mass balance constraint should be automatically enforced by COBRA (equation 2)\n",
    "# reaction flux bound constraints should be automatically enforced by COBRA (equation 3)\n",
    "\n",
    "## enforce experimentally observed growth rates (equation 11)\n",
    "#growth only at night\n",
    "control_model.reactions.RXN_BiomassRxn__L___DARK.lower_bound = cont_leaf_g; control_model.reactions.RXN_BiomassRxn__L___DARK.upper_bound = cont_leaf_g\n",
    "control_model.reactions.RXN_BiomassRxn__S___DARK.lower_bound = cont_stem_g; control_model.reactions.RXN_BiomassRxn__S___DARK.upper_bound = cont_stem_g\n",
    "control_model.reactions.RXN_BiomassRxn__R___DARK.lower_bound = cont_root_g; control_model.reactions.RXN_BiomassRxn__R___DARK.upper_bound = cont_root_g\n",
    "\n",
    "#so turn off growth in the light\n",
    "control_model.reactions.RXN_BiomassRxn__L___LIGHT.lower_bound = 0; control_model.reactions.RXN_BiomassRxn__L___LIGHT.upper_bound = 0\n",
    "control_model.reactions.RXN_BiomassRxn__S___LIGHT.lower_bound = 0; control_model.reactions.RXN_BiomassRxn__S___LIGHT.upper_bound = 0\n",
    "control_model.reactions.RXN_BiomassRxn__R___LIGHT.lower_bound = 0; control_model.reactions.RXN_BiomassRxn__R___LIGHT.upper_bound = 0\n",
    "\n",
    "#require that all NGAM values are equal\n",
    "ngam_equal_1_dark = control_model.problem.Constraint(control_model.reactions.RXN_ATPM_c__L___DARK.flux_expression - control_model.reactions.RXN_ATPM_c__S___DARK.flux_expression, ub = 0, lb = 0)\n",
    "ngam_equal_2_dark = control_model.problem.Constraint(control_model.reactions.RXN_ATPM_c__L___DARK.flux_expression - control_model.reactions.RXN_ATPM_c__R___DARK.flux_expression, ub = 0, lb = 0)\n",
    "ngam_equal_1_light = control_model.problem.Constraint(control_model.reactions.RXN_ATPM_c__L___LIGHT.flux_expression - control_model.reactions.RXN_ATPM_c__S___LIGHT.flux_expression, ub = 0, lb = 0)\n",
    "ngam_equal_2_light = control_model.problem.Constraint(control_model.reactions.RXN_ATPM_c__L___LIGHT.flux_expression - control_model.reactions.RXN_ATPM_c__R___LIGHT.flux_expression, ub = 0, lb = 0)\n",
    "ngam_equal_dark_light = control_model.problem.Constraint(control_model.reactions.RXN_ATPM_c__L___LIGHT.flux_expression - control_model.reactions.RXN_ATPM_c__L___DARK.flux_expression, ub = 0, lb = 0)\n",
    "\n",
    "control_model.add_cons_vars(ngam_equal_1_dark)\n",
    "control_model.add_cons_vars(ngam_equal_2_dark)\n",
    "control_model.add_cons_vars(ngam_equal_1_light)\n",
    "control_model.add_cons_vars(ngam_equal_2_light)\n",
    "control_model.add_cons_vars(ngam_equal_dark_light)\n",
    "\n",
    "## Imposes that the transport of CO2 from the stem xylem to leaves is at most 2.7% of absorbed atmospheric CO2 (equation 14)\n",
    "#RXN_L2CP2_CO2_LIGHT is positive if loading CO2 into the CP2 \n",
    "#RXN_E2L_CO2_LIGHT is positive if CO2 is moving into the leaf extracellular compartment from the shared extracellular compartment\n",
    "co2tr = control_model.problem.Constraint(control_model.reactions.RXN_L2CP2_CO2_LIGHT.flux_expression + 0.027 * control_model.reactions.RXN_E2L_CO2_LIGHT.flux_expression, ub = 10000, lb=0)\n",
    "#co2tr2 = control_model.problem.Constraint(control_model.reactions.RXN_L2CP2_CO2_DARK.flux_expression + 0.027 * control_model.reactions.RXN_E2L_CO2_DARK.flux_expression, ub = 10000, lb=0)\n",
    "control_model.add_cons_vars(co2tr)\n",
    "#control_model.add_cons_vars(co2tr2)\n",
    "\n",
    "## Imposes that the amount of respired CO2 loaded onto the xylem by the roots rivals (in this case, equals) the export of CO2 to the soil (environment) (equation 15)\n",
    "co2tr3 = control_model.problem.Constraint(control_model.reactions.RXN_E2R_CO2_LIGHT.flux_expression - control_model.reactions.RXN_R2CP1_CO2_LIGHT.flux_expression, ub=0, lb=0)\n",
    "co2tr4 = control_model.problem.Constraint(control_model.reactions.RXN_E2R_CO2_DARK.flux_expression - control_model.reactions.RXN_R2CP1_CO2_DARK.flux_expression, ub=0, lb=0)\n",
    "control_model.add_cons_vars(co2tr3)  \n",
    "control_model.add_cons_vars(co2tr4) \n",
    "\n",
    "# limit photon uptake in the light based on calculations described in the paper (equation 16)\n",
    "control_model.reactions.RXN_E2L_LIGHT__L___LIGHT.lower_bound = 0;control_model.reactions.RXN_E2L_LIGHT__L___LIGHT.upper_bound = leaf_photon_uptake_ub\n",
    "\n",
    "## Allowing storage of respired CO2 in the stem, working toward building equation 17\n",
    "control_model.add_boundary(control_model.metabolites.MET_carbon_dioxide_c__S___DARK,type = \"demand\")\n",
    "control_model.add_boundary(control_model.metabolites.MET_carbon_dioxide_c__S___LIGHT,type = \"sink\")\n",
    "\n",
    "#This prevents CO2 storage during the day\n",
    "control_model.reactions.SK_MET_carbon_dioxide_c__S___LIGHT.upper_bound = 0; \n",
    "\n",
    "# Imposes that 10% of respired CO2 is stored into the stems during the night (equation 17)\n",
    "# requiring 10% storage\n",
    "co2storage = control_model.problem.Constraint(0.1*control_model.reactions.RXN_E2S_CO2_DARK.flux_expression - control_model.reactions.DM_MET_carbon_dioxide_c__S___DARK.flux_expression, ub = 0, lb = 0)\n",
    "# requiring the storage at night to equal its use in day\n",
    "co2storage2 = control_model.problem.Constraint(control_model.reactions.SK_MET_carbon_dioxide_c__S___LIGHT.flux_expression + control_model.reactions.DM_MET_carbon_dioxide_c__S___DARK.flux_expression, ub = 0, lb = 0)\n",
    "control_model.add_cons_vars(co2storage)\n",
    "control_model.add_cons_vars(co2storage2)\n",
    "\n",
    "# Adding connecting starch reactions for creating equations 18 and 19\n",
    "## Define sink and demand reactions\n",
    "## sing reactions are for removal of starch from storage, demand are for adding starch to storage\n",
    "control_model.add_boundary(control_model.metabolites.MET_starch_p__L___LIGHT, type=\"demand\")\n",
    "control_model.add_boundary(control_model.metabolites.MET_starch_p__S___LIGHT, type=\"demand\")\n",
    "control_model.add_boundary(control_model.metabolites.MET_starch_p__L___DARK, type=\"sink\")\n",
    "control_model.add_boundary(control_model.metabolites.MET_starch_p__S___DARK, type=\"sink\")\n",
    "    \n",
    "# Only allows consumption of starch at night\n",
    "control_model.reactions.SK_MET_starch_p__L___DARK.upper_bound = 0\n",
    "control_model.reactions.SK_MET_starch_p__S___DARK.upper_bound = 0\n",
    "\n",
    "# by default, demand reactions have LB = 0, so don't need to specify this to ensure only storage during day. \n",
    "\n",
    "## Requiring that starch producded during the day is used at night, and visa versa (equations 18 and 19)\n",
    "# leaf\n",
    "starchprodL = control_model.problem.Constraint(control_model.reactions.DM_MET_starch_p__L___LIGHT.flux_expression + control_model.reactions.SK_MET_starch_p__L___DARK.flux_expression, lb = 0, ub = 0)\n",
    "control_model.add_cons_vars(starchprodL)\n",
    "\n",
    "#stem\n",
    "starchprodS = control_model.problem.Constraint(control_model.reactions.DM_MET_starch_p__S___LIGHT.flux_expression + control_model.reactions.SK_MET_starch_p__S___DARK.flux_expression, lb = 0, ub = 0)\n",
    "control_model.add_cons_vars(starchprodS)\n",
    "\n",
    "## Imposes a photorespiration rate of 25% during the day (equation 20)\n",
    "photoresp = control_model.problem.Constraint(control_model.reactions.RXN_RIBULOSE_BISPHOSPHATE_CARBOXYLASE_RXN_p__L___LIGHT.flux_expression + 4*control_model.reactions.RXN_RXN_961_p__L___LIGHT.flux_expression, ub=0,lb=0)\n",
    "control_model.add_cons_vars(photoresp)\n",
    "\n",
    "print(\"success\")"
   ]
  },
  {
   "cell_type": "markdown",
   "id": "6907eaaf",
   "metadata": {},
   "source": [
    "#### Define the model objective and direction"
   ]
  },
  {
   "cell_type": "code",
   "execution_count": null,
   "id": "593b870b",
   "metadata": {},
   "outputs": [],
   "source": [
    "control_model.objective = control_model.reactions.RXN_ATPM_c__S___DARK\n",
    "control_model.objective_direction = 'max'\n",
    "\n",
    "print(\"success\")"
   ]
  },
  {
   "cell_type": "markdown",
   "id": "8ededc1b",
   "metadata": {},
   "source": [
    "#### Solve the pFBA problem, report results"
   ]
  },
  {
   "cell_type": "code",
   "execution_count": null,
   "id": "0fe7ef0a",
   "metadata": {},
   "outputs": [],
   "source": [
    "#solve model\n",
    "c_solution = cobra.flux_analysis.pfba(control_model)"
   ]
  },
  {
   "cell_type": "code",
   "execution_count": null,
   "id": "79f30e85",
   "metadata": {},
   "outputs": [],
   "source": [
    "#report solution\n",
    "print(\"total sum of fluxes:\\t\\t\"+str(c_solution.objective_value)+\" mmol/gDWday\")\n",
    "print(\"starch production in the leaf:\\t\"+str(c_solution.fluxes.DM_MET_starch_p__L___LIGHT) +\" mmol/gDWday\")\n",
    "print(\"starch production in the stem:\\t\"+str(c_solution.fluxes.DM_MET_starch_p__S___LIGHT) +\" mmol/gDWday\")\n",
    "\n",
    "print(\"Day leaf CO2 uptake:\\t\\t\"+ str(c_solution.fluxes.RXN_E2L_CO2_LIGHT)+\" mmol/gDWday\")\n",
    "print(\"Night leaf CO2 efflux:\\t\\t\"+ str(-c_solution.fluxes.RXN_E2L_CO2_DARK)+\" mmol/gDWday\")\n",
    "print(\"Day stem CO2 efflux:\\t\\t\"+ str(c_solution.fluxes.RXN_E2S_CO2_LIGHT)+\" mmol/gDWday\")\n",
    "print(\"Night stem CO2 efflux:\\t\\t\"+ str(c_solution.fluxes.RXN_E2S_CO2_DARK)+\" mmol/gDWday\")\n",
    "print(\"Day root CO2 efflux:\\t\\t\"+ str(c_solution.fluxes.RXN_E2R_CO2_LIGHT)+\" mmol/gDWday\")\n",
    "print(\"Night root CO2 efflux:\\t\\t\"+ str(c_solution.fluxes.RXN_E2R_CO2_DARK)+\" mmol/gDWday\")\n",
    "\n",
    "total_efflux = -c_solution.fluxes.RXN_E2L_CO2_DARK + c_solution.fluxes.RXN_E2S_CO2_LIGHT + c_solution.fluxes.RXN_E2S_CO2_DARK + c_solution.fluxes.RXN_E2R_CO2_LIGHT + c_solution.fluxes.RXN_E2R_CO2_DARK\n",
    "print(\"Total CO2 efflux:\\t\\t\"+ str(total_efflux)+\" mmol/gDWday\")\n",
    "\n",
    "net_CO2 = c_solution.fluxes.RXN_E2L_CO2_LIGHT - total_efflux\n",
    "\n",
    "print(\"Net CO2 uptake:\\t\\t\\t\"+ str(net_CO2)+\" mmol/gDWday\")\n",
    "print(\"\\nMax ATPM:\\t\\t\\t\"+ str(c_solution.fluxes.RXN_ATPM_c__S___DARK)+\" mmol/gDWday\")\n",
    "\n",
    "df = pd.DataFrame([[c_solution.fluxes[i]] for i in range(0, len(c_solution.fluxes))])\n",
    "df.index = [rxn.id for rxn in control_model.reactions]\n",
    "df.to_csv('pFBA_results_control.csv', sep=',', index=True)\n",
    "\n",
    "gam_cost = 693.12 * (cont_leaf_g + cont_stem_g + cont_root_g)\n",
    "\n",
    "print(\"\\nGAM cost:\\t\\t\\t\"+ str(gam_cost)+\" mmol/gDWday\")"
   ]
  },
  {
   "cell_type": "markdown",
   "id": "1788e9e6",
   "metadata": {},
   "source": [
    "#### Save NGAM"
   ]
  },
  {
   "cell_type": "code",
   "execution_count": null,
   "id": "07d3ea07",
   "metadata": {},
   "outputs": [],
   "source": [
    "ngam_out = open(\"iPorti3016C_NGAM_est.txt\",\"w\")\n",
    "ngam_out.write(str(c_solution.fluxes.RXN_ATPM_c__S___DARK))\n",
    "ngam_out.close()"
   ]
  }
 ],
 "metadata": {
  "kernelspec": {
   "display_name": "Python 3",
   "language": "python",
   "name": "python3"
  },
  "language_info": {
   "codemirror_mode": {
    "name": "ipython",
    "version": 3
   },
   "file_extension": ".py",
   "mimetype": "text/x-python",
   "name": "python",
   "nbconvert_exporter": "python",
   "pygments_lexer": "ipython3",
   "version": "3.8.8"
  }
 },
 "nbformat": 4,
 "nbformat_minor": 5
}
